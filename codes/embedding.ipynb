{
 "cells": [
  {
   "cell_type": "code",
   "execution_count": 1,
   "metadata": {},
   "outputs": [
    {
     "name": "stderr",
     "output_type": "stream",
     "text": [
      "No sentence-transformers model found with name C:\\Users\\User/.cache\\torch\\sentence_transformers\\BM-K_KoSimCSE-roberta-multitask. Creating a new one with MEAN pooling.\n"
     ]
    }
   ],
   "source": [
    "from sentence_transformers import SentenceTransformer, util\n",
    "\n",
    "import pandas as pd\n",
    "import numpy as np\n",
    "\n",
    "# 데이터 불러오기, 파일 다운로드 후 경로 수정 필요\n",
    "baemin_df = pd.read_csv(\"../guides/baemin.txt\", sep=\"\\n\\n\", names=['text'], engine='python')\n",
    "baemin_df['text'] = baemin_df['text'].apply(lambda x: '[배민] ' + x)\n",
    "baemin_guide = baemin_df['text'].to_list()\n",
    "kakao_df = pd.read_csv(\"../guides/kakao.txt\", sep=\"\\n\\n\", names=['text'], engine='python')\n",
    "kakao_df['text'] = kakao_df['text'].apply(lambda x: '[카톡] ' + x)\n",
    "kakao_guide = kakao_df['text'].to_list()\n",
    "\n",
    "# 가이드 리스트 합치기\n",
    "guide_li = baemin_guide + kakao_guide\n",
    "\n",
    "# 실질적으로 탑케이 필요함\n",
    "embedder = SentenceTransformer(\"BM-K/KoSimCSE-roberta-multitask\")\n",
    "corpus_embeddings = embedder.encode(guide_li, convert_to_tensor=True)\n"
   ]
  },
  {
   "cell_type": "code",
   "execution_count": 21,
   "metadata": {},
   "outputs": [
    {
     "name": "stdout",
     "output_type": "stream",
     "text": [
      "아래 정보들을 참고해서 질문에 대한 답을 알려줘. 정보 부분의 숫자는 질문과 얼마나 유사한지를 나타내는 지표고, 대괄호 안의 단어는 어플 이름이야. 질문과 관련 없는 어플 이름은 사용하지 말고, 질문에 대해 필요한 정보만 사용해. 질문에 대한 답변만 알려 주고, 질문에 대한 적절한 답이 없다면 답변이 불가하다고 답해.\n",
      "\n",
      "### 질문 ###\n",
      "배달의민족에서 카카오페이 결제 하는 방법 알려줘.\n",
      "\n",
      "### 정보1 ###\n",
      "0.81\n",
      "[배민] 배민페이: 배달의 민족 앱에서 결제할 때 사용할 수 있는 서비스. 계좌나 카드 정보를 배민페이로 저장해 두면 결제할 때 연결해 쓸 수 있다.\n",
      "\n",
      "### 정보2 ###\n",
      "0.72\n",
      "[배민] [배민] 다른 결제수단: 결제하기 중 다른 결제수단에 있는 '변경'을 누르면 '신용/체크카드', '휴대폰결제', 'Apple Pay', '네이버페이', '카카오페이' 등 선택하여 결제를 진행할 수 있다.\n",
      "\n",
      "### 정보3 ###\n",
      "0.71\n",
      "[배민] 배달팁: 고객이 내는 배달비. 음식값에 더해져서 한 번에 결제된다.\n",
      "\n",
      "### 정보4 ###\n",
      "0.69\n",
      "[배민] 가족계정 결제하기(과정): 1. 가족 구성원이 원하는 메뉴를 주문한 다음 가족 대표에게 결제 요청하기. 2. 가족 대표에게 결제 요청 알림 전달. 가족 구성원의 주문을 가족 대표가 대신 결제. 3. 가족 구성원이 음식을 배달 받음\n",
      "\n",
      "### 정보5 ###\n",
      "0.69\n",
      "[카톡] 패밀리결제 이용하기: 한 사람이 대표가 되어 멤버들의 결제를 손쉽게 승인하고 관리할 수 있어요. 어린 자녀부터 나이 드신 부모님까지, 결제 수단이 없거나 결제가 어려운 지인이 있다면 패밀리결제를 시작해 보세요. 한 사람이 대표가 되어 결제를 손쉽게 진행하고, 나머지 멤버들의 결제 권한을 설정할 수도 있어요. 가족 뿐만 아니라 친구와도 패밀리결제를 신청할 수 있으니, 필요에 따라 더 폭넓게 활용할 수 있겠죠? 1. 카카오톡 설정 > 카카오계정 > 패밀리 계정 관리 메뉴를 선택하세요. 2. 패밀리 계정이 없다면 직접 대표가 되어 패밀리 계정을 생성하세요. 3. [패밀리결제 관리] 버튼을 클릭하세요. 4. 패밀리결제 홈화면에서 결제 수단을 등록하고, 연결된 멤버의 결제 권한을 설정해 보세요. 5. [멤버 결제권한]에서 대표는 멤버의 결제 권한을 설정할 수 있고, 멤버는 본인의 결제 권한을 확인할 수 있어요. 6. 결제 권한이 허용된 멤버와 대표는 서비스 결제창에서 '패밀리결제' 수단을 선택해 쉽게 결제할 수 있어요. 7. '대표 승인 후 결제' 방식을 선택했다면, 멤버는 대표의 승인을 받아야 결제를 완료할 수 있어요. 8. 결제 요청부터 결제 완료 내용은 멤버와 대표의 개인 채팅방에서 TMS를 통해 확인할 수 있어요. * 패밀리결제 메뉴는 카카오톡 v.10.2.0 이상에서 사용 가능합니다. * 패밀리결제 서비스는 대표가 결제 수단을 등록한 후 이용 가능합니다. * 대표는 카카오 인증서 발급이 필요합니다. * 향후 더 많은 서비스에서 패밀리결제 서비스를 이용할 수 있습니다.\n"
     ]
    }
   ],
   "source": [
    "\n",
    "prompt = '아래 정보들을 참고해서 질문에 대한 답을 알려줘. 정보 부분의 숫자는 질문과 얼마나 유사한지를 나타내는 지표고, 대괄호 안의 단어는 어플 이름이야. \\\n",
    "질문과 관련 없는 어플 이름은 사용하지 말고, 질문에 대해 필요한 정보만 사용해. 질문에 대한 답변만 알려 주고, 질문에 대한 적절한 답이 없다면 답변이 불가하다고 답해.\\\n",
    "\\n\\n### 질문 ###\\n'\n",
    "\n",
    "# Query sentences:\n",
    "queries = [\n",
    "    '배달의민족에서 카카오페이 결제 하는 방법 알려줘.', \n",
    "    # '카톡 사용 방법 알려줘', \n",
    "    # '치타가 들판을 가로 질러 먹이를 쫓는다.',\n",
    "    # '카톡 이모티콘 무제한 어떻게 하는거야?',\n",
    "    # '배민에서 결제를 어떻게 하는건지 모르겠어요'\n",
    "    ]\n",
    "\n",
    "# Find the closest 5 sentences of the corpus for each query sentence based on cosine similarity\n",
    "top_k = 5\n",
    "\n",
    "# 유사도 점수 확인\n",
    "for query in queries:\n",
    "    query_embedding = embedder.encode(query, convert_to_tensor=True)\n",
    "    cos_scores = util.pytorch_cos_sim(query_embedding, corpus_embeddings)[0]\n",
    "    cos_scores = cos_scores.cpu()\n",
    "\n",
    "    #We use np.argpartition, to only partially sort the top_k results\n",
    "    top_results = np.argpartition(-cos_scores, range(top_k))[:top_k]\n",
    "    idxs = [x.item() for x in top_results]\n",
    "    prompt += query\n",
    "\n",
    "    for num, idx in enumerate(idxs):\n",
    "        if 0 <= idx < len(guide_li):\n",
    "            score = float(\"%.2f\" % cos_scores[idx])\n",
    "\n",
    "            if score >= 0.0:\n",
    "                prompt += f'\\n\\n### 정보{num + 1} ###\\n{score}\\n{guide_li[idx].strip()}'\n",
    "            else:\n",
    "                break\n",
    "print(prompt)"
   ]
  },
  {
   "cell_type": "code",
   "execution_count": null,
   "metadata": {},
   "outputs": [],
   "source": []
  }
 ],
 "metadata": {
  "kernelspec": {
   "display_name": "rag_test",
   "language": "python",
   "name": "rag_test"
  },
  "language_info": {
   "codemirror_mode": {
    "name": "ipython",
    "version": 3
   },
   "file_extension": ".py",
   "mimetype": "text/x-python",
   "name": "python",
   "nbconvert_exporter": "python",
   "pygments_lexer": "ipython3",
   "version": "3.8.18"
  }
 },
 "nbformat": 4,
 "nbformat_minor": 2
}
