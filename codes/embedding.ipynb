{
 "cells": [
  {
   "cell_type": "code",
   "execution_count": 9,
   "metadata": {},
   "outputs": [
    {
     "data": {
      "application/vnd.jupyter.widget-view+json": {
       "model_id": "140287bdc97f4aa79920c35448233676",
       "version_major": 2,
       "version_minor": 0
      },
      "text/plain": [
       ".gitattributes:   0%|          | 0.00/1.18k [00:00<?, ?B/s]"
      ]
     },
     "metadata": {},
     "output_type": "display_data"
    },
    {
     "data": {
      "application/vnd.jupyter.widget-view+json": {
       "model_id": "2cca6e28c94349ff95426390edde9c41",
       "version_major": 2,
       "version_minor": 0
      },
      "text/plain": [
       "1_Pooling/config.json:   0%|          | 0.00/190 [00:00<?, ?B/s]"
      ]
     },
     "metadata": {},
     "output_type": "display_data"
    },
    {
     "data": {
      "application/vnd.jupyter.widget-view+json": {
       "model_id": "44a63db2c3ff4ed9be28b734d1fe1f9b",
       "version_major": 2,
       "version_minor": 0
      },
      "text/plain": [
       "README.md:   0%|          | 0.00/4.78k [00:00<?, ?B/s]"
      ]
     },
     "metadata": {},
     "output_type": "display_data"
    },
    {
     "data": {
      "application/vnd.jupyter.widget-view+json": {
       "model_id": "1fba609a308d45e1bce68f163ee97120",
       "version_major": 2,
       "version_minor": 0
      },
      "text/plain": [
       "config.json:   0%|          | 0.00/620 [00:00<?, ?B/s]"
      ]
     },
     "metadata": {},
     "output_type": "display_data"
    },
    {
     "data": {
      "application/vnd.jupyter.widget-view+json": {
       "model_id": "8ea8c39f7c9345b89a4d2129d3c715dd",
       "version_major": 2,
       "version_minor": 0
      },
      "text/plain": [
       "config_sentence_transformers.json:   0%|          | 0.00/123 [00:00<?, ?B/s]"
      ]
     },
     "metadata": {},
     "output_type": "display_data"
    },
    {
     "data": {
      "application/vnd.jupyter.widget-view+json": {
       "model_id": "65f131b700a6498a9f60fb28982c76db",
       "version_major": 2,
       "version_minor": 0
      },
      "text/plain": [
       "(…)imilarity_evaluation_sts-dev_results.csv:   0%|          | 0.00/930 [00:00<?, ?B/s]"
      ]
     },
     "metadata": {},
     "output_type": "display_data"
    },
    {
     "data": {
      "application/vnd.jupyter.widget-view+json": {
       "model_id": "4c91d88ac9a04a808ab30693b08642bb",
       "version_major": 2,
       "version_minor": 0
      },
      "text/plain": [
       "pytorch_model.bin:   0%|          | 0.00/443M [00:00<?, ?B/s]"
      ]
     },
     "metadata": {},
     "output_type": "display_data"
    },
    {
     "data": {
      "application/vnd.jupyter.widget-view+json": {
       "model_id": "9a14e0b2d11e41e7999540281d06b815",
       "version_major": 2,
       "version_minor": 0
      },
      "text/plain": [
       "sentence_bert_config.json:   0%|          | 0.00/53.0 [00:00<?, ?B/s]"
      ]
     },
     "metadata": {},
     "output_type": "display_data"
    },
    {
     "data": {
      "application/vnd.jupyter.widget-view+json": {
       "model_id": "2fcb841cfcae4e01a89fc7b1a82bb5ba",
       "version_major": 2,
       "version_minor": 0
      },
      "text/plain": [
       "(…)milarity_evaluation_sts-test_results.csv:   0%|          | 0.00/302 [00:00<?, ?B/s]"
      ]
     },
     "metadata": {},
     "output_type": "display_data"
    },
    {
     "data": {
      "application/vnd.jupyter.widget-view+json": {
       "model_id": "b0dd65406b5549faab57992eacecba1e",
       "version_major": 2,
       "version_minor": 0
      },
      "text/plain": [
       "special_tokens_map.json:   0%|          | 0.00/112 [00:00<?, ?B/s]"
      ]
     },
     "metadata": {},
     "output_type": "display_data"
    },
    {
     "data": {
      "application/vnd.jupyter.widget-view+json": {
       "model_id": "d0c0a893d9d74874a565cc5d8b9a6906",
       "version_major": 2,
       "version_minor": 0
      },
      "text/plain": [
       "tokenizer.json:   0%|          | 0.00/495k [00:00<?, ?B/s]"
      ]
     },
     "metadata": {},
     "output_type": "display_data"
    },
    {
     "data": {
      "application/vnd.jupyter.widget-view+json": {
       "model_id": "cef0f60f2196452fbc94b93b98a34ddf",
       "version_major": 2,
       "version_minor": 0
      },
      "text/plain": [
       "tokenizer_config.json:   0%|          | 0.00/538 [00:00<?, ?B/s]"
      ]
     },
     "metadata": {},
     "output_type": "display_data"
    },
    {
     "data": {
      "application/vnd.jupyter.widget-view+json": {
       "model_id": "9461c21e48d1471191e36e499c018145",
       "version_major": 2,
       "version_minor": 0
      },
      "text/plain": [
       "vocab.txt:   0%|          | 0.00/248k [00:00<?, ?B/s]"
      ]
     },
     "metadata": {},
     "output_type": "display_data"
    },
    {
     "data": {
      "application/vnd.jupyter.widget-view+json": {
       "model_id": "28c015f339c941c2a75561b84d339f52",
       "version_major": 2,
       "version_minor": 0
      },
      "text/plain": [
       "modules.json:   0%|          | 0.00/229 [00:00<?, ?B/s]"
      ]
     },
     "metadata": {},
     "output_type": "display_data"
    }
   ],
   "source": [
    "from sentence_transformers import SentenceTransformer, util\n",
    "\n",
    "import pandas as pd\n",
    "import numpy as np\n",
    "\n",
    "# 데이터 불러오기, 파일 다운로드 후 경로 수정 필요\n",
    "baemin_df = pd.read_csv(\"../guides/baemin.txt\", sep=\"\\n\\n\", names=['text'], engine='python')\n",
    "baemin_df['text'] = baemin_df['text'].apply(lambda x: '[배민] ' + x)\n",
    "baemin_guide = baemin_df['text'].to_list()\n",
    "kakao_df = pd.read_csv(\"../guides/kakao.txt\", sep=\"\\n\\n\", names=['text'], engine='python')\n",
    "kakao_df['text'] = kakao_df['text'].apply(lambda x: '[카톡] ' + x)\n",
    "kakao_guide = kakao_df['text'].to_list()\n",
    "\n",
    "# 가이드 리스트 합치기\n",
    "guide_li = baemin_guide + kakao_guide\n",
    "\n",
    "# 실질적으로 탑케이 필요함\n",
    "embedder = SentenceTransformer(\"jhgan/ko-sbert-multitask\")\n",
    "corpus_embeddings = embedder.encode(guide_li, convert_to_tensor=True)\n"
   ]
  },
  {
   "cell_type": "code",
   "execution_count": 8,
   "metadata": {},
   "outputs": [
    {
     "name": "stdout",
     "output_type": "stream",
     "text": [
      "아래 정보들을 참고해서 질문에 대한 답을 알려줘. 정보 부분의 숫자는 질문과 얼마나 유사한지를 나타내는 지표고, 대괄호 안의 단어는 어플 이름이야. 질문과 관련 없는 어플 이름은 사용하지 말고, 질문에 대해 필요한 정보만 사용해. 질문에 대한 답변만 알려 주고, 질문에 대한 적절한 답이 없다면 답변이 불가하다고 답해.\n",
      "\n",
      "### 질문 ###\n",
      "카톡 사용 방법 알려줘\n",
      "\n",
      "### 정보1 ###\n",
      "0.6\n",
      "[카톡] 공감스티커 사용하기: 말하지 않고도 마음을 전달하는 카톡 프로필 공감스티커입니다. 요즘 내 일상과 기분을 색다르게 표현할 수 있는 카카오톡 프로필 꾸미기! 취향대로 꾸민 프로필에 공감스티커를 더해보세요. 내 프로필에 놀러 온 친구가 공감스티커를 눌러 마음을 전할 수 있어요. 오랜만에 업데이트된 친구의 프로필에 공감스티커를 꾹 눌러보세요! 굳이 톡 하지 않고 공감 스티커를 톡, 건드리는 것만으로도 반가운 마음을 전할 수 있겠죠? 1. 프로필 화면 아래 '프로필 편집' 버튼을 클릭해 공감스티커를 사용할 수 있습니다. 2. 다양한 스티커 중 원하는 것만 골라 내 프로필에 붙일 수 있습니다. 3. 내 프로필을 방문한 친구들이 보내준 공감 수만큼 숫자가 올라갑니다. * 친구들이 연속으로 공감할 수 있습니다. * 공감수/공감도가 프로필에 표시됩니다. * 공감한 친구 정보는 나만 알 수 있습니다. * 공감스티커를 길게 꾹 누르면 취소할 수도 있습니다.\n",
      "\n",
      "### 정보2 ###\n",
      "0.58\n",
      "[카톡] 다양한 방법으로 친구 추가하기: QR코드부터 카톡 ID까지, 다양한 방식으로 친구를 추가하고 간편하게 관리할 수 있습니다. 새로운 관계를 맺을 때마다 필요한 카카오톡 친구 추가. 꼭 전화번호를 주고받지 않더라도 카카오톡 친구가 될 수 있다는 사실 알고 계셨나요? 카톡 친구를 추가하는 다양한 방법 중 나에게 가장 편한 방법을 골라보세요. 1. 친구탭에서 친구 추가 버튼을 선택합니다. 2. 상대방에게 나의 카톡 QR코드를 보여주세요. 상대방이 카메라로 QR코드를 인식하면 나의 카톡 친구로 추가할 수 있습니다. 3. 반대로 내가 상대방을 친구로 추가하고 싶다면, 친구 추가 화면에서 QR코드 버튼을 선택한 후 4. 상대방의 QR코드를 스캔합니다. 5. 그러면 간편하게 친구 추가를 완료할 수 있습니다. 6. '연락처로 추가'를 선택하면 7. 상대방 전화번호로 친구 추가할 수 있습니다. 8. 'ID로 추가'를 선택하면 9. 상대방의 카카오톡 ID를 입력해 친구로 추가할 수 있습니다. * 전화번호로 친구 추가 허용’을 비활성화한 사용자는 연락처로 친구 추가를 할 수 없습니다. * ‘친구 추천 허용’을 비활성화한 사용자는 ‘추천 친구’에 노출되지 않습니다. * ‘ID로 추가'는 ID 설정 및 검색 허용 후 이용할 수 있습니다. (더보기탭 > 설정 > 프로필관리 > 카카오톡ID) * 추천친구 버튼을 클릭하면 내가 알 수도 있는 친구 목록을 볼 수 있습니다.\n",
      "\n",
      "### 정보3 ###\n",
      "0.57\n",
      "[카톡] 톡학생증 사용하기: 학생 인증도 톡 하듯 쉽게! 인증부터 전용 혜택까지 톡에서 만나보세요! 대학(원)생이거나 졸업생이라면 나의 학생 신분을 인증해야 할 때가 많죠. 이렇게 재학/졸업 정보 인증이 필요할 때, 이젠 카카오톡 지갑에서 톡학생증을 꺼내보세요! 쉽고 빠른 인증은 물론, 특별한 혜택까지 누릴 수 있답니다. 1. 톡학생증은 지갑의 신분/증명 탭에서 이용할 수 있어요. 2. 대학(원)생, 졸업생이라면 누구나 발급받을 수 있고요. 3. 온라인 인증이 필요할 땐, 안내에 따라 톡학생증을 사용처에 제출하세요. 4. 오프라인 인증이 필요할 땐, 캡처 사용 방지를 위해 톡학생증 뒷면을 함께 보여주세요. 5. 혜택 안내 버튼을 누르면 톡학생증 전용 혜택도 확인할 수 있어요. * 흔들기로도 톡학생증을 사용할 수 있습니다. * 카카오톡 v10.2.0 이상에서 사용할 수 있습니다.\n",
      "\n",
      "### 정보4 ###\n",
      "0.56\n",
      "[카톡] 카카오계정 2단계 인증하기: 2단계 인증으로 내 계정을 더 안전하게 지켜요. 혹시나 다른 기기에서 내 카톡 계정이 로그인될까 걱정된다면? 카톡의 이중 보안 서비스 ‘2단계 인증'이 내 허락 없이는 절대 내 계정으로 로그인할 수 없도록 도와드려요. 카톡 로그인은 물론 미리 등록해 둔 추가 인증 수단으로 한 번 더 확인해야 로그인 할 수 있어서, 언제 어디서든 내 카카오 서비스를 안전하게 지킬 수 있어요. 1. 더보기탭에서 상단 톱니바퀴 모양의 ‘설정’을 눌러보세요. 2. 제일 위에 있는 ‘카카오계정’을 클릭하세요. 3. 계정 보안을 위해 ‘2단계 인증'을 선택하세요. 4. 카카오계정 비밀번호를 입력 후, 2단계 인증에 대해 읽어보고 ‘사용하기’ 버튼을 클릭하세요. 5. 카카오톡, 휴대폰 번호 중 원하는 인증 방식을 선택하세요. 6. 휴대폰을 이용할 수 없는 경우 사용할 비상용 이메일을 등록하세요. 7. '확인' 버튼을 눌러 완성하세요. 그럼 이제 2단계 인증이 설정되어 안심하고 이용할 수 있어요! * 카카오톡이나 전화번호 인증이 어려울 경우에는 비상 연락용 이메일로도 로그인할 수 있습니다.\n",
      "\n",
      "### 정보5 ###\n",
      "0.55\n",
      "[카톡] 자주 쓰는 채팅방 상단 고정하기: 자주 쓰는 채팅방이 아래로 떠밀려 내려가지 않도록! 목록 제일 위에 고정 시켜 두는 법입니다. 아는 사람만 안다는 카톡 꿀팁, 채팅방 상단 고정하기. 새로 온 카톡 때문에 중요한 채팅방이 밑으로 밀려 내려가 찾을 때마다 불편했다면 써보세요! 연인과의 대화방, 가족 그룹채팅방, 업무용 채팅방 등 중요한 이야기들을 놓치지 않게 도와드려요. (아이폰에서는 '채팅방 핀설정'으로 보여요!) 1. 원하는 채팅방을 길게 눌러보세요. (📣아이폰 사용자는 5 부터 읽어주세요!) 2. 설정 도구 창에서 ‘채팅방 상단 고정'을 선택해 주세요. 3. 자, 이제 목록 가장 위로 이동한 채팅방이 보이시나요? 상단 고정한 채팅방 옆에는 작은 핀 모양이 생겨요! 4. 고정을 해제하고 싶다면? 처음 설정할 때와 같은 방법으로 해당 채팅방을 길게 눌러 '채팅방 상단 고정 해제'를 클릭하세요. 5. 아이폰 사용자의 경우, 원하는 채팅방을 오른쪽으로 밀어보세요. 6. 왼쪽 아이콘 중 핀 모양을 눌러주세요. 7. 자, 이제 목록 가장 위로 이동한 채팅방이 보이시나요? 상단 고정한 채팅방 옆에는 작은 핀 모양이 생겨요! 8. 고정을 해제하고 싶다면? 해당 채팅방을 오른쪽으로 밀어 채팅방 상단 고정을 해제해보세요. * 채팅방 상단 고정은 최대 5개까지 가능합니다.\n"
     ]
    }
   ],
   "source": [
    "\n",
    "prompt = '아래 정보들을 참고해서 질문에 대한 답을 알려줘. 정보 부분의 숫자는 질문과 얼마나 유사한지를 나타내는 지표고, 대괄호 안의 단어는 어플 이름이야. \\\n",
    "질문과 관련 없는 어플 이름은 사용하지 말고, 질문에 대해 필요한 정보만 사용해. 질문에 대한 답변만 알려 주고, 질문에 대한 적절한 답이 없다면 답변이 불가하다고 답해.\\\n",
    "\\n\\n### 질문 ###\\n'\n",
    "\n",
    "# Query sentences:\n",
    "queries = [\n",
    "    # '배달의민족에서 카카오페이 결제 하는 방법 알려줘.', \n",
    "    '카톡 사용 방법 알려줘', \n",
    "    # '치타가 들판을 가로 질러 먹이를 쫓는다.',\n",
    "    # '카톡 이모티콘 무제한 어떻게 하는거야?',\n",
    "    # '배민에서 결제를 어떻게 하는건지 모르겠어요',\n",
    "    # '배민에서 배달비 어떻게 확인해?'\n",
    "    ]\n",
    "\n",
    "# Find the closest 5 sentences of the corpus for each query sentence based on cosine similarity\n",
    "top_k = 5\n",
    "\n",
    "# 유사도 점수 확인\n",
    "for query in queries:\n",
    "    query_embedding = embedder.encode(query, convert_to_tensor=True)\n",
    "    cos_scores = util.pytorch_cos_sim(query_embedding, corpus_embeddings)[0]\n",
    "    cos_scores = cos_scores.cpu()\n",
    "\n",
    "    #We use np.argpartition, to only partially sort the top_k results\n",
    "    top_results = np.argpartition(-cos_scores, range(top_k))[:top_k]\n",
    "    idxs = [x.item() for x in top_results]\n",
    "    prompt += query\n",
    "\n",
    "    for num, idx in enumerate(idxs):\n",
    "        if 0 <= idx < len(guide_li):\n",
    "            score = float(\"%.2f\" % cos_scores[idx])\n",
    "\n",
    "            if score >= 0.0:\n",
    "                prompt += f'\\n\\n### 정보{num + 1} ###\\n{score}\\n{guide_li[idx].strip()}'\n",
    "            else:\n",
    "                break\n",
    "print(prompt)"
   ]
  },
  {
   "cell_type": "code",
   "execution_count": null,
   "metadata": {},
   "outputs": [],
   "source": []
  }
 ],
 "metadata": {
  "kernelspec": {
   "display_name": "rag_test",
   "language": "python",
   "name": "rag_test"
  },
  "language_info": {
   "codemirror_mode": {
    "name": "ipython",
    "version": 3
   },
   "file_extension": ".py",
   "mimetype": "text/x-python",
   "name": "python",
   "nbconvert_exporter": "python",
   "pygments_lexer": "ipython3",
   "version": "3.8.18"
  }
 },
 "nbformat": 4,
 "nbformat_minor": 2
}
